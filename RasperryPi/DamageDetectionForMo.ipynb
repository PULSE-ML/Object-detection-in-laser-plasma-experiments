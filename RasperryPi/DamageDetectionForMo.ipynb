{
 "cells": [
  {
   "cell_type": "markdown",
   "metadata": {
    "id": "Ar5ZDRYGSm2v"
   },
   "source": [
    "# Load your labeled data for inference\n",
    "Label images in [Roboflow](https://roboflow.com/) and load with a download code"
   ]
  },
  {
   "cell_type": "code",
   "execution_count": null,
   "metadata": {
    "id": "FwJcaoPGF4VI"
   },
   "outputs": [],
   "source": [
    "# from roboflow import Roboflow\n",
    "# rf = Roboflow(api_key=\"xxx\")\n",
    "# project = rf.workspace(\"xxx\").project(\"xxx\")\n",
    "# dataset = project.version(1).download(\"yolov5\")"
   ]
  },
  {
   "cell_type": "markdown",
   "metadata": {
    "id": "lU-6U7b0TtP7"
   },
   "source": [
    "# Run inference with an existing set of weights"
   ]
  },
  {
   "cell_type": "code",
   "execution_count": null,
   "metadata": {
    "id": "AiMC4d1BRyW-"
   },
   "outputs": [],
   "source": [
    "!python detect.py --weights /content/yolov5/damageDetection.pt --img 416 --conf 0.1 --source {dataset.location}/test/images --save-txt --hide-conf --hide-labels"
   ]
  },
  {
   "cell_type": "code",
   "execution_count": null,
   "metadata": {
    "id": "nxHNB56vRxyf"
   },
   "outputs": [],
   "source": [
    "#display inference on ALL test images\n",
    "\n",
    "import glob\n",
    "from IPython.display import Image, display\n",
    "\n",
    "for imageName in glob.glob('/content/yolov5/runs/detect/exp/*.jpg'): #assuming JPG\n",
    "    display(Image(filename=imageName))\n",
    "    print(\"\\n\")"
   ]
  },
  {
   "cell_type": "markdown",
   "metadata": {
    "id": "mVreXE_PUOXZ"
   },
   "source": [
    "# Save model and results"
   ]
  },
  {
   "cell_type": "code",
   "execution_count": null,
   "metadata": {
    "id": "CGR1rZHhUUaa"
   },
   "outputs": [],
   "source": [
    "dataset.location"
   ]
  },
  {
   "cell_type": "code",
   "execution_count": null,
   "metadata": {
    "id": "Zbo5NFk0d83E"
   },
   "outputs": [],
   "source": [
    "!zip -r /content/myTestResult.zip /content/yolov5/runs/detect/exp"
   ]
  },
  {
   "cell_type": "code",
   "execution_count": null,
   "metadata": {
    "id": "lR6QuNQKVKMo"
   },
   "outputs": [],
   "source": [
    "files.download('/content/myTestResult.zip')"
   ]
  },
  {
   "cell_type": "code",
   "execution_count": null,
   "metadata": {
    "id": "r4lcZLlXR5sh"
   },
   "outputs": [],
   "source": [
    "!zip -r /content/model.zip /content/yolov5/runs/train/exp"
   ]
  },
  {
   "cell_type": "code",
   "execution_count": null,
   "metadata": {
    "id": "HvDkg9JptQ4-"
   },
   "outputs": [],
   "source": [
    "files.download('/content/model.zip')"
   ]
  }
 ],
 "metadata": {
  "accelerator": "GPU",
  "colab": {
   "collapsed_sections": [],
   "provenance": [
    {
     "file_id": "https://github.com/roboflow-ai/yolov5-custom-training-tutorial/blob/main/yolov5-custom-training.ipynb",
     "timestamp": 1646755809661
    }
   ]
  },
  "kernelspec": {
   "display_name": "Python 3 (ipykernel)",
   "language": "python",
   "name": "python3"
  },
  "language_info": {
   "codemirror_mode": {
    "name": "ipython",
    "version": 3
   },
   "file_extension": ".py",
   "mimetype": "text/x-python",
   "name": "python",
   "nbconvert_exporter": "python",
   "pygments_lexer": "ipython3",
   "version": "3.9.12"
  }
 },
 "nbformat": 4,
 "nbformat_minor": 1
}
